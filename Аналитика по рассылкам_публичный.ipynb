{
 "cells": [
  {
   "cell_type": "markdown",
   "metadata": {},
   "source": [
    "# Анализ метрик эффективности рассылок компании, оказывающей профессиональные услуги"
   ]
  },
  {
   "cell_type": "markdown",
   "metadata": {},
   "source": [
    "Данные за 2,5 года с августа 2018 по текущий момент, декабрь 2020. \n",
    "\n",
    "Расчитаны средние метрики и метрики в разрезе тем рассылок: \n",
    "- Открываемость (open rate)\n",
    "- Кликабельность (click-through rate)\n",
    "- Переходы по отношению к открытиям (click-to-open rate)\n",
    "- Процент отписок (unsubscribe rate)\n",
    "- Процент возвратов (bounce rate)\n",
    "\n",
    "Метрики расчитаны по [формулам](https://www.carrotquest.io/blog/email-marketing-metrics/) \n",
    "\n",
    "Для сравнения использованы средние, согласно [US Email Marketing Benchmarks (2020)](https://www.campaignmonitor.com/resources/guides/us-email-marketing-benchmarks-2020-by-day-and-industry/), \n",
    "показатели метрик для финансовых услуг:\n",
    "- Открываемость (open rate): 16%\n",
    "- Кликабельность (click-through rate): 2.5%\n",
    "- Переходы по отношению к открытиям (click-to-open rate): 15.6%\n",
    "- Процент отписок (unsubscribe rate): 0.2%\n",
    "- Процент возвратов (bounce rate): 1.3%"
   ]
  },
  {
   "cell_type": "markdown",
   "metadata": {},
   "source": [
    "## Рекомендации\n",
    "\n",
    "Рассылки имеют высокие показатели метрик: click-through rate и click-to-open rate (они взаимосвязаны).\n",
    "\n",
    "Хорший показатель открываемости (open rate): 14%, однако он незначительно ниже, чем в среднем по отрасли (16%).\n",
    "\n",
    "Самая большая проблема с процентом возвратов (bounce rate), он составляет 12%, и этот показатель в 10 раз превышает средний по рынку (1.3%). Так как unsubscribe rate низкий, полагаю, что дело в метрвых адресах.\n",
    "\n",
    "\n",
    "### Открываемость (open rate) чуть ниже, чем по отрасли\n",
    "- Тема письма очень важна! \n",
    "- Валидация email адресов, чистка базы\n",
    "- Выбор времени отправки: согласно [US Email Marketing Benchmarks (2020)](https://www.campaignmonitor.com/resources/guides/us-email-marketing-benchmarks-2020-by-day-and-industry/) оптимальное время для финансовых услуг: понедельник и среда\n",
    "\n",
    "### Процент возвратов (bounce rate) значительно выше, чем в среднем по отрасли\n",
    "- Валидация email адресов, чистка базы, удаление несуществующих адресов\n",
    "\n",
    "### Невозможно расчитать конверсию (сколько подписчиков выполнили целевое действие)\n",
    "- Интегрировать систему рассылок с системой аналитики и отслеживать источники переходов при помощи utm-меток\n",
    "- Назначить целевое действие: форма запроса"
   ]
  },
  {
   "cell_type": "code",
   "execution_count": 2,
   "metadata": {},
   "outputs": [],
   "source": [
    "import pandas as pd\n",
    "import numpy as np\n",
    "from scipy import stats as st\n",
    "import math as mth\n",
    "import matplotlib.pyplot as plt \n",
    "\n",
    "from plotly import graph_objects as go\n",
    "import plotly.express as px\n",
    "\n",
    "import warnings\n",
    "warnings.simplefilter('ignore')"
   ]
  },
  {
   "cell_type": "code",
   "execution_count": 3,
   "metadata": {},
   "outputs": [],
   "source": [
    "mail = pd.read_excel('')"
   ]
  },
  {
   "cell_type": "code",
   "execution_count": 4,
   "metadata": {},
   "outputs": [],
   "source": [
    "mail.to_csv('mail.csv', encoding='utf-8', index=False)"
   ]
  },
  {
   "cell_type": "code",
   "execution_count": 5,
   "metadata": {},
   "outputs": [
    {
     "name": "stdout",
     "output_type": "stream",
     "text": [
      "<class 'pandas.core.frame.DataFrame'>\n",
      "RangeIndex: 85 entries, 0 to 84\n",
      "Data columns (total 17 columns):\n",
      " #   Column            Non-Null Count  Dtype         \n",
      "---  ------            --------------  -----         \n",
      " 0   Campaign name     85 non-null     object        \n",
      " 1   Address book      85 non-null     object        \n",
      " 2   Tag               85 non-null     object        \n",
      " 3   Sent date         85 non-null     datetime64[ns]\n",
      " 4   Sent              85 non-null     float64       \n",
      " 5   Delivered         85 non-null     float64       \n",
      " 6   Opened            85 non-null     int64         \n",
      " 7   Redirect          85 non-null     float64       \n",
      " 8   Errors            85 non-null     float64       \n",
      " 9   Unsubscribed      85 non-null     float64       \n",
      " 10  Marked as spam    85 non-null     int64         \n",
      " 11  Delivered %       85 non-null     float64       \n",
      " 12  Opened %          85 non-null     float64       \n",
      " 13  Redirect %        85 non-null     float64       \n",
      " 14  Errors %          85 non-null     float64       \n",
      " 15  Unsubscribed %    85 non-null     float64       \n",
      " 16  Marked as spam %  85 non-null     float64       \n",
      "dtypes: datetime64[ns](1), float64(11), int64(2), object(3)\n",
      "memory usage: 11.4+ KB\n"
     ]
    }
   ],
   "source": [
    "mail.info()"
   ]
  },
  {
   "cell_type": "code",
   "execution_count": 7,
   "metadata": {},
   "outputs": [],
   "source": [
    "mail.head()"
   ]
  },
  {
   "cell_type": "markdown",
   "metadata": {},
   "source": [
    "Преобразование даты в формат datetime и выделение из нее месяца и года в отдельные колонки"
   ]
  },
  {
   "cell_type": "code",
   "execution_count": null,
   "metadata": {},
   "outputs": [],
   "source": [
    "mail['Date'] = pd.to_datetime(mail['Sent date'], format='%d.%m.%Y %H:%M:%S',infer_datetime_format=True)"
   ]
  },
  {
   "cell_type": "code",
   "execution_count": null,
   "metadata": {},
   "outputs": [],
   "source": [
    "mail['Month'] = mail['Date'].dt.month\n",
    "mail['Year'] = mail['Date'].dt.year"
   ]
  },
  {
   "cell_type": "markdown",
   "metadata": {},
   "source": [
    "### Сколько рассылок в год? "
   ]
  },
  {
   "cell_type": "code",
   "execution_count": null,
   "metadata": {},
   "outputs": [],
   "source": [
    "mail.groupby(by ='Year')['Campaign name'].count()"
   ]
  },
  {
   "cell_type": "markdown",
   "metadata": {},
   "source": [
    "### Количество рассылок по темам"
   ]
  },
  {
   "cell_type": "code",
   "execution_count": null,
   "metadata": {},
   "outputs": [],
   "source": [
    "pivot_table_by_tag = mail.pivot_table(index=['Tag'], aggfunc={'Campaign name': 'count'}).reset_index()\n",
    "pivot_table_by_tag"
   ]
  },
  {
   "cell_type": "markdown",
   "metadata": {},
   "source": [
    "### Среднее количество рассылок в месяц"
   ]
  },
  {
   "cell_type": "code",
   "execution_count": null,
   "metadata": {},
   "outputs": [],
   "source": [
    "pivot_table_by_month_total['Количество рассылок'].mean()"
   ]
  },
  {
   "cell_type": "markdown",
   "metadata": {},
   "source": [
    "### Метрики эффективности email-рассылок\n",
    "- Открываемость (open rate)\n",
    "- Кликабельность (click-through rate)\n",
    "- Переходы по отношению к открытиям (click-to-open rate)\n",
    "- Процент отписок (unsubscribe rate)\n",
    "- Процент возвратов (bounce rate)"
   ]
  },
  {
   "cell_type": "code",
   "execution_count": null,
   "metadata": {},
   "outputs": [],
   "source": [
    "mail['open_rate'] = (mail['Opened']/mail['Delivered'])*100"
   ]
  },
  {
   "cell_type": "code",
   "execution_count": null,
   "metadata": {},
   "outputs": [],
   "source": [
    "mail['click_through_rate'] = (mail['Redirect']/mail['Delivered'])*100"
   ]
  },
  {
   "cell_type": "code",
   "execution_count": null,
   "metadata": {},
   "outputs": [],
   "source": [
    "mail['click_open_rate'] = (mail['Redirect']/mail['Opened'])*100"
   ]
  },
  {
   "cell_type": "code",
   "execution_count": null,
   "metadata": {},
   "outputs": [],
   "source": [
    "mail['bounce_rate'] = (mail['Errors']/mail['Sent'])*100"
   ]
  },
  {
   "cell_type": "code",
   "execution_count": null,
   "metadata": {},
   "outputs": [],
   "source": [
    "mail['unsubscribe_rate'] = (mail['Unsubscribed']/mail['Delivered'])*100"
   ]
  },
  {
   "cell_type": "code",
   "execution_count": null,
   "metadata": {},
   "outputs": [],
   "source": [
    "mail.sample(3)"
   ]
  },
  {
   "cell_type": "markdown",
   "metadata": {},
   "source": [
    "### Воронка отправки, доставки, октрытий, переходов"
   ]
  },
  {
   "cell_type": "code",
   "execution_count": null,
   "metadata": {},
   "outputs": [],
   "source": [
    "mail_mean_m = mail.mean()\n",
    "mail_mean_m.round(2)"
   ]
  },
  {
   "cell_type": "code",
   "execution_count": null,
   "metadata": {},
   "outputs": [],
   "source": [
    "fig = go.Figure(go.Funnel(\n",
    "    y = ['Sent', 'Delivered','Opened', 'Redirect'],\n",
    "    x = [572.05, 497.28, 59.38, 17.57],\n",
    "    textinfo = \"value+percent previous\"))\n",
    "\n",
    "fig.show()\n"
   ]
  },
  {
   "cell_type": "markdown",
   "metadata": {},
   "source": [
    "### Средние по метрикам в разрезе года"
   ]
  },
  {
   "cell_type": "code",
   "execution_count": null,
   "metadata": {},
   "outputs": [],
   "source": [
    "mail_mean = mail.pivot_table(index=['Year']).reset_index()\n",
    "colums_t = ['Year','open_rate', 'click_open_rate', 'click_through_rate', 'bounce_rate', 'unsubscribe_rate'] \n",
    "mail_mean[colums_t].round(2).style.background_gradient(cmap='Greens')"
   ]
  },
  {
   "cell_type": "markdown",
   "metadata": {},
   "source": [
    "### Количество рассылок в год, помесячно"
   ]
  },
  {
   "cell_type": "code",
   "execution_count": null,
   "metadata": {
    "scrolled": false
   },
   "outputs": [],
   "source": [
    "pivot_table_by_month_total = mail.pivot_table(index=['Month', 'Year'], aggfunc={'Campaign name': 'count'}).reset_index()\n",
    "pivot_table_by_month_total.columns=['Месяц', 'Год', 'Количество рассылок']\n",
    "fig = px.bar(pivot_table_by_month_total, x=\"Год\", y=\"Количество рассылок\", color = 'Месяц', title=\"Количество рассылок в год, помесячно\")\n",
    "fig.show()"
   ]
  },
  {
   "cell_type": "markdown",
   "metadata": {},
   "source": [
    "### Количество рассылок в год в разрезе темы: Обзор законодательства, новости МСФО, РСБУ, новости компании и рассылка, связанная с Covid "
   ]
  },
  {
   "cell_type": "code",
   "execution_count": null,
   "metadata": {},
   "outputs": [],
   "source": [
    "pivot_table_by_tag = mail.pivot_table(index=['Tag', 'Year'], aggfunc={'Campaign name': 'count'}).reset_index()\n",
    "fig = px.bar(pivot_table_by_tag, \n",
    "             x=\"Year\", y=\"Campaign name\", color = 'Tag',\n",
    "             title=\"Количество рассылок в год, по теме рассылки\")\n",
    "fig.show()"
   ]
  },
  {
   "cell_type": "markdown",
   "metadata": {},
   "source": [
    "### Метрики по теме рассылки "
   ]
  },
  {
   "cell_type": "code",
   "execution_count": null,
   "metadata": {},
   "outputs": [],
   "source": [
    "columns_rates = ['Tag','open_rate', 'click_open_rate', 'click_through_rate', 'bounce_rate', 'unsubscribe_rate']\n",
    "\n",
    "mail_mean_rates_tag = pd.DataFrame(mail, columns=columns_rates)"
   ]
  },
  {
   "cell_type": "code",
   "execution_count": null,
   "metadata": {},
   "outputs": [],
   "source": [
    "mail_mean_rates_tag_pivot = mail_mean_rates_tag.pivot_table(index=['Tag']).reset_index()\n",
    "\n",
    "mail_mean_rates_tag_pivot.round(2).sort_values(by = 'open_rate', ascending = False).round(2).style.background_gradient(cmap='Greens')"
   ]
  },
  {
   "cell_type": "markdown",
   "metadata": {},
   "source": [
    "### Топ-5 рассылок по open rate"
   ]
  },
  {
   "cell_type": "code",
   "execution_count": null,
   "metadata": {},
   "outputs": [],
   "source": [
    "opened_top = mail.sort_values(by = 'open_rate', ascending = False)\n",
    "colums = ['Year','Campaign name', 'Tag', 'open_rate']\n",
    "opened_top[colums].head(5)"
   ]
  },
  {
   "cell_type": "markdown",
   "metadata": {},
   "source": [
    "### 3 рассылки с самым низким  open rate"
   ]
  },
  {
   "cell_type": "code",
   "execution_count": null,
   "metadata": {},
   "outputs": [],
   "source": [
    "opened_top[colums].tail(3)"
   ]
  },
  {
   "cell_type": "markdown",
   "metadata": {},
   "source": [
    "### Топ-5 рассылок по кликабельности (click-through rate)"
   ]
  },
  {
   "cell_type": "code",
   "execution_count": null,
   "metadata": {},
   "outputs": [],
   "source": [
    "redirect_top = mail.sort_values(by = 'click_through_rate', ascending = False)\n",
    "colums_r = ['Year','Campaign name', 'Tag', 'click_through_rate']\n",
    "redirect_top[colums_r].head(5)"
   ]
  },
  {
   "cell_type": "markdown",
   "metadata": {},
   "source": [
    "### 3 рассылки с самым низким click-through rate"
   ]
  },
  {
   "cell_type": "code",
   "execution_count": null,
   "metadata": {},
   "outputs": [],
   "source": [
    "redirect_top[colums_r].tail(3)"
   ]
  },
  {
   "cell_type": "markdown",
   "metadata": {},
   "source": [
    "### 3 рассылки с самым высоким процентом описок"
   ]
  },
  {
   "cell_type": "code",
   "execution_count": null,
   "metadata": {},
   "outputs": [],
   "source": [
    "unsubscribed_top = mail.sort_values(by = 'unsubscribe_rate', ascending = False)\n",
    "colums_u = ['Year','Campaign name', 'Tag', 'unsubscribe_rate']\n",
    "unsubscribed_top[colums_u].head(3)"
   ]
  }
 ],
 "metadata": {
  "kernelspec": {
   "display_name": "Python 3",
   "language": "python",
   "name": "python3"
  },
  "language_info": {
   "codemirror_mode": {
    "name": "ipython",
    "version": 3
   },
   "file_extension": ".py",
   "mimetype": "text/x-python",
   "name": "python",
   "nbconvert_exporter": "python",
   "pygments_lexer": "ipython3",
   "version": "3.7.3"
  }
 },
 "nbformat": 4,
 "nbformat_minor": 2
}
